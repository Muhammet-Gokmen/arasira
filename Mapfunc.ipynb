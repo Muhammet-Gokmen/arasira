{
  "nbformat": 4,
  "nbformat_minor": 0,
  "metadata": {
    "colab": {
      "name": "Mapfunc.ipynb",
      "provenance": [],
      "authorship_tag": "ABX9TyPJO/sKm8DPnIqUwQXo8nn5",
      "include_colab_link": true
    },
    "kernelspec": {
      "name": "python3",
      "display_name": "Python 3"
    },
    "language_info": {
      "name": "python"
    }
  },
  "cells": [
    {
      "cell_type": "markdown",
      "metadata": {
        "id": "view-in-github",
        "colab_type": "text"
      },
      "source": [
        "<a href=\"https://colab.research.google.com/github/arasira/arasira/blob/main/Mapfunc.ipynb\" target=\"_parent\"><img src=\"https://colab.research.google.com/assets/colab-badge.svg\" alt=\"Open In Colab\"/></a>"
      ]
    },
    {
      "cell_type": "code",
      "execution_count": 1,
      "metadata": {
        "colab": {
          "base_uri": "https://localhost:8080/"
        },
        "id": "K7dCH0wBOC_I",
        "outputId": "0a92049d-905a-43c0-ad93-11fe5e7344f0"
      },
      "outputs": [
        {
          "output_type": "stream",
          "name": "stdout",
          "text": [
            "[1, 4, 9, 16, 25, 36, 49]\n"
          ]
        }
      ],
      "source": [
        "liste = [1,2,3,4,5,6,7]\n",
        "def kare_al(x):\n",
        "  return x*x\n",
        "liste_2 = []\n",
        "for i in liste:\n",
        "  liste_2.append(kare_al(i))\n",
        "print(liste_2)    "
      ]
    },
    {
      "cell_type": "code",
      "source": [
        "liste_3= map(kare_al,liste)\n",
        "print(liste_3)"
      ],
      "metadata": {
        "colab": {
          "base_uri": "https://localhost:8080/"
        },
        "id": "kmqBbDHlOxQy",
        "outputId": "a2028a98-0bc2-4885-fa4c-fa753c6043ed"
      },
      "execution_count": 2,
      "outputs": [
        {
          "output_type": "stream",
          "name": "stdout",
          "text": [
            "<map object at 0x7f86478dde10>\n"
          ]
        }
      ]
    },
    {
      "cell_type": "code",
      "source": [
        "liste_3= list(map(kare_al,liste))\n",
        "print(liste_3)"
      ],
      "metadata": {
        "colab": {
          "base_uri": "https://localhost:8080/"
        },
        "id": "c1jZqu5OPJU-",
        "outputId": "b7e79c17-d419-479a-e6a1-28d7af3c0ba5"
      },
      "execution_count": 3,
      "outputs": [
        {
          "output_type": "stream",
          "name": "stdout",
          "text": [
            "[1, 4, 9, 16, 25, 36, 49]\n"
          ]
        }
      ]
    },
    {
      "cell_type": "code",
      "source": [
        "liste_3= set(map(kare_al,liste))\n",
        "print(liste_3)"
      ],
      "metadata": {
        "colab": {
          "base_uri": "https://localhost:8080/"
        },
        "id": "HtURNYbxPOI1",
        "outputId": "d969fe85-a23f-4790-ba53-6118cc2e60b4"
      },
      "execution_count": 4,
      "outputs": [
        {
          "output_type": "stream",
          "name": "stdout",
          "text": [
            "{1, 4, 36, 9, 16, 49, 25}\n"
          ]
        }
      ]
    },
    {
      "cell_type": "code",
      "source": [
        "liste_3= tuple(map(kare_al,liste))\n",
        "print(liste_3)"
      ],
      "metadata": {
        "colab": {
          "base_uri": "https://localhost:8080/"
        },
        "id": "EeFNQt5bPSPF",
        "outputId": "a75ba04c-6d8a-4997-c5ec-46103268f42f"
      },
      "execution_count": 5,
      "outputs": [
        {
          "output_type": "stream",
          "name": "stdout",
          "text": [
            "(1, 4, 9, 16, 25, 36, 49)\n"
          ]
        }
      ]
    },
    {
      "cell_type": "code",
      "source": [
        "liste_3= (map(kare_al,liste))  # map fonksiyone listenin icindeki elemanlara ayni islemi uygular.\n",
        "print(liste_3)"
      ],
      "metadata": {
        "colab": {
          "base_uri": "https://localhost:8080/"
        },
        "id": "62rTIf43PVbI",
        "outputId": "7d300ae1-eaf1-4965-c635-4861c26636d7"
      },
      "execution_count": 7,
      "outputs": [
        {
          "output_type": "stream",
          "name": "stdout",
          "text": [
            "<map object at 0x7f86477d1350>\n"
          ]
        }
      ]
    },
    {
      "cell_type": "code",
      "source": [
        "listem = [1,2,3,4,5,8,9]    # yukaridaki ifadenin lambda fonksiyonu ile yapimi\n",
        "listem2= list(map(lambda x:x*x,listem))\n",
        "print(listem2)"
      ],
      "metadata": {
        "colab": {
          "base_uri": "https://localhost:8080/"
        },
        "id": "Jzeis3TgPY6X",
        "outputId": "c5c41c9a-9bf3-4a8a-b2a5-9856f3229c4e"
      },
      "execution_count": 9,
      "outputs": [
        {
          "output_type": "stream",
          "name": "stdout",
          "text": [
            "[1, 4, 9, 16, 25, 64, 81]\n"
          ]
        }
      ]
    },
    {
      "cell_type": "code",
      "source": [
        "sinif = [1,2,5,8]\n",
        "konu = [4,5,6,7]\n",
        "unite = [2,4]\n",
        "def toplam(x,y,z):\n",
        "  return x+y+z\n",
        "sonuc = list(map(toplam,sinif,konu,unite))\n",
        "print(sonuc)  "
      ],
      "metadata": {
        "colab": {
          "base_uri": "https://localhost:8080/"
        },
        "id": "HDiUA6ZvQATh",
        "outputId": "3307958e-e6ad-49fc-dbfa-5c6ada19b563"
      },
      "execution_count": 10,
      "outputs": [
        {
          "output_type": "stream",
          "name": "stdout",
          "text": [
            "[7, 11]\n"
          ]
        }
      ]
    },
    {
      "cell_type": "code",
      "source": [
        "sonuc2 = list(map(lambda x,y,z:x+y+z,sinif,unite,konu))\n",
        "print(sonuc2)"
      ],
      "metadata": {
        "colab": {
          "base_uri": "https://localhost:8080/"
        },
        "id": "XBlK8gRwRz5V",
        "outputId": "7062cc8d-f524-455d-9936-c46946654695"
      },
      "execution_count": 11,
      "outputs": [
        {
          "output_type": "stream",
          "name": "stdout",
          "text": [
            "[7, 11]\n"
          ]
        }
      ]
    },
    {
      "cell_type": "code",
      "source": [
        "esyalar =[[\"takimelbise\",200],[\"gomlek\",50],[\"kemer\",25],[\"kravat\",20]]\n",
        "def indirim(x):\n",
        "  urun,fiyat = x[0],x[1]\n",
        "  fiyat = fiyat * (9/10)\n",
        "  return [urun,fiyat]\n",
        "sonuc =list(map(indirim,esyalar))  \n",
        "print(sonuc)"
      ],
      "metadata": {
        "colab": {
          "base_uri": "https://localhost:8080/"
        },
        "id": "gh6pWkfpSJ_8",
        "outputId": "91b9d45a-3f5e-407e-e8eb-8b35e0242217"
      },
      "execution_count": 12,
      "outputs": [
        {
          "output_type": "stream",
          "name": "stdout",
          "text": [
            "[['takimelbise', 180.0], ['gomlek', 45.0], ['kemer', 22.5], ['kravat', 18.0]]\n"
          ]
        }
      ]
    },
    {
      "cell_type": "code",
      "source": [
        "names = [\"tOm\",\"eDWarD\",\"JiMy\",\"JacK\"]\n",
        "names2 = list(map(lambda x:x.capitalize(),names))\n",
        "print(names2)"
      ],
      "metadata": {
        "colab": {
          "base_uri": "https://localhost:8080/"
        },
        "id": "kWeTn6emULV_",
        "outputId": "3b510361-331e-4d8c-8b99-bc1fcd478af8"
      },
      "execution_count": 14,
      "outputs": [
        {
          "output_type": "stream",
          "name": "stdout",
          "text": [
            "['Tom', 'Edward', 'Jimy', 'Jack']\n"
          ]
        }
      ]
    }
  ]
}