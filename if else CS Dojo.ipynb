{
 "cells": [
  {
   "cell_type": "code",
   "execution_count": 2,
   "id": "cc47b57e",
   "metadata": {},
   "outputs": [
    {
     "name": "stdout",
     "output_type": "stream",
     "text": [
      "a less than b\n",
      "a is definitely less than b\n",
      " Not sure if a is less than b\n"
     ]
    }
   ],
   "source": [
    "a = 1\n",
    "b = 2\n",
    "if a < b :\n",
    "    print(\"a less than b\")\n",
    "    print(\"a is definitely less than b\")\n",
    "print(\" Not sure if a is less than b\")"
   ]
  },
  {
   "cell_type": "code",
   "execution_count": 3,
   "id": "4c8fed62",
   "metadata": {},
   "outputs": [
    {
     "name": "stdout",
     "output_type": "stream",
     "text": [
      "c is less than d\n",
      "outside the if block\n"
     ]
    }
   ],
   "source": [
    "c = 3\n",
    "d = 4\n",
    "if c < d :\n",
    "    print(\"c is less than d\")\n",
    "else:\n",
    "    print(\"c is Not less than d\")\n",
    "    print(\"I don't think c is less than d\")\n",
    "print(\"outside the if block\")"
   ]
  },
  {
   "cell_type": "code",
   "execution_count": 4,
   "id": "a1ef3bad",
   "metadata": {},
   "outputs": [
    {
     "name": "stdout",
     "output_type": "stream",
     "text": [
      "c is Not less than d\n",
      "I don't think c is less than d\n",
      "outside the if block\n"
     ]
    }
   ],
   "source": [
    "c = 5\n",
    "d = 4\n",
    "if c < d :\n",
    "    print(\"c is less than d\")\n",
    "else:\n",
    "    print(\"c is Not less than d\")\n",
    "    print(\"I don't think c is less than d\")\n",
    "print(\"outside the if block\")"
   ]
  },
  {
   "cell_type": "code",
   "execution_count": 13,
   "id": "7a5649a6",
   "metadata": {},
   "outputs": [
    {
     "name": "stdout",
     "output_type": "stream",
     "text": [
      "bmi: \n",
      "26.122448979591837\n",
      "MG\n",
      "is overweigtht\n"
     ]
    }
   ],
   "source": [
    "name = \"MG\"\n",
    "height_m = 1.75\n",
    "weight_kg = 80\n",
    "\n",
    "bmi = weight_kg / (height_m**2)\n",
    "print(\"bmi: \")\n",
    "print(bmi)\n",
    "if bmi < 25 :\n",
    "    print(name)\n",
    "    print(\"is not overweight\")\n",
    "else:\n",
    "    print(name)\n",
    "    print(\"is overweigtht\")\n",
    "   "
   ]
  },
  {
   "cell_type": "code",
   "execution_count": null,
   "id": "28753543",
   "metadata": {},
   "outputs": [],
   "source": []
  }
 ],
 "metadata": {
  "kernelspec": {
   "display_name": "Python 3 (ipykernel)",
   "language": "python",
   "name": "python3"
  },
  "language_info": {
   "codemirror_mode": {
    "name": "ipython",
    "version": 3
   },
   "file_extension": ".py",
   "mimetype": "text/x-python",
   "name": "python",
   "nbconvert_exporter": "python",
   "pygments_lexer": "ipython3",
   "version": "3.9.7"
  }
 },
 "nbformat": 4,
 "nbformat_minor": 5
}
