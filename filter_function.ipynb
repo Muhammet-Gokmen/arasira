{
  "nbformat": 4,
  "nbformat_minor": 0,
  "metadata": {
    "colab": {
      "name": "filter_function.ipynb",
      "provenance": [],
      "collapsed_sections": [],
      "authorship_tag": "ABX9TyMvCMsLk+Bdii/P8Fw2KPAq",
      "include_colab_link": true
    },
    "kernelspec": {
      "name": "python3",
      "display_name": "Python 3"
    },
    "language_info": {
      "name": "python"
    }
  },
  "cells": [
    {
      "cell_type": "markdown",
      "metadata": {
        "id": "view-in-github",
        "colab_type": "text"
      },
      "source": [
        "<a href=\"https://colab.research.google.com/github/arasira/arasira/blob/main/filter_function.ipynb\" target=\"_parent\"><img src=\"https://colab.research.google.com/assets/colab-badge.svg\" alt=\"Open In Colab\"/></a>"
      ]
    },
    {
      "cell_type": "code",
      "execution_count": null,
      "metadata": {
        "colab": {
          "base_uri": "https://localhost:8080/"
        },
        "id": "GXxo_4I8-2rt",
        "outputId": "251851e2-880d-4e33-e272-13d19efe18f7"
      },
      "outputs": [
        {
          "output_type": "stream",
          "name": "stdout",
          "text": [
            "[2, 4, 6, 8]\n"
          ]
        }
      ],
      "source": [
        "liste = [1,2,3,4,6,8,11,17,123,101,127]\n",
        "def cift_mi(x):\n",
        "  if x % 2 == 0:\n",
        "    return True\n",
        "  return False\n",
        "ciftler= list(filter(cift_mi,liste))\n",
        "print(ciftler)    \n"
      ]
    },
    {
      "cell_type": "code",
      "source": [
        "def iki_basamakli(x):\n",
        "  if x >= 10 and x <= 100 :\n",
        "    return True\n",
        "  return False\n",
        "iki_basamak = list(filter(iki_basamakli,liste))\n",
        "print(iki_basamak)     "
      ],
      "metadata": {
        "colab": {
          "base_uri": "https://localhost:8080/"
        },
        "id": "-rLqpseiFgGC",
        "outputId": "8c5e5eca-584e-4daf-f9b5-6d680acdcc0e"
      },
      "execution_count": null,
      "outputs": [
        {
          "output_type": "stream",
          "name": "stdout",
          "text": [
            "[11, 17]\n"
          ]
        }
      ]
    },
    {
      "cell_type": "code",
      "source": [
        "ciftlere= list(filter(lambda y : y %2 == 0,liste))\n",
        "print(ciftlere) "
      ],
      "metadata": {
        "colab": {
          "base_uri": "https://localhost:8080/"
        },
        "id": "0ct1uCdJGYk6",
        "outputId": "938482b8-9469-41cb-bf19-ae8fef66e11b"
      },
      "execution_count": null,
      "outputs": [
        {
          "output_type": "stream",
          "name": "stdout",
          "text": [
            "[2, 4, 6, 8]\n"
          ]
        }
      ]
    },
    {
      "cell_type": "code",
      "source": [
        "iki_basamaki = list(filter(lambda y: y >= 10 and y <= 100,liste))\n",
        "print(iki_basamaki) "
      ],
      "metadata": {
        "colab": {
          "base_uri": "https://localhost:8080/"
        },
        "id": "v_mFtONdHAdw",
        "outputId": "58b1a67d-f185-45d6-c93c-f5f27f6946d0"
      },
      "execution_count": null,
      "outputs": [
        {
          "output_type": "stream",
          "name": "stdout",
          "text": [
            "[11, 17]\n"
          ]
        }
      ]
    },
    {
      "cell_type": "code",
      "source": [
        "kelimeler = [\"ayna\",\"ana\",\"balik\",\"kazak\",\"aba\",\"seker\",\"kek\",\"baba\"]\n",
        "a_baslayan = list(filter(lambda kelime: kelime.startswith(\"a\"),kelimeler))\n",
        "print(a_baslayan)\n",
        "icinde_a_olan = list(filter(lambda kelime: \"a\" in kelime,kelimeler))\n",
        "print(icinde_a_olan)\n",
        "palindromlar = list(filter(lambda kelime:kelime == kelime[::-1],kelimeler))\n",
        "print(palindromlar)"
      ],
      "metadata": {
        "colab": {
          "base_uri": "https://localhost:8080/"
        },
        "id": "sQHmWx_3HSs2",
        "outputId": "1837daa0-f06c-4672-c5ed-5d8022615690"
      },
      "execution_count": null,
      "outputs": [
        {
          "output_type": "stream",
          "name": "stdout",
          "text": [
            "['ayna', 'ana', 'aba']\n",
            "['ayna', 'ana', 'balik', 'kazak', 'aba', 'baba']\n",
            "['ana', 'kazak', 'aba', 'kek']\n"
          ]
        }
      ]
    },
    {
      "cell_type": "code",
      "source": [
        "listem = [1,2,(1,2,3),True, \"azat\",\"kazal\",{1,2,3}]\n",
        "strigler = list(filter(lambda x: isinstance(x,str),listem))\n",
        "print(strigler)"
      ],
      "metadata": {
        "colab": {
          "base_uri": "https://localhost:8080/"
        },
        "id": "6aV70ugCK6E8",
        "outputId": "e9d47cf0-e17e-4a9e-f734-039bc9d1dfda"
      },
      "execution_count": null,
      "outputs": [
        {
          "output_type": "stream",
          "name": "stdout",
          "text": [
            "['azat', 'kazal']\n"
          ]
        }
      ]
    },
    {
      "cell_type": "code",
      "source": [
        "int_ler = list(filter(lambda x: isinstance(x,int),listem)) # True is show us 1 and False is 0\n",
        "print(int_ler)"
      ],
      "metadata": {
        "colab": {
          "base_uri": "https://localhost:8080/"
        },
        "id": "QXQOGYBCMk14",
        "outputId": "6fb4d8b4-c48c-4010-84f6-baca957889ed"
      },
      "execution_count": null,
      "outputs": [
        {
          "output_type": "stream",
          "name": "stdout",
          "text": [
            "[1, 2, True]\n"
          ]
        }
      ]
    },
    {
      "cell_type": "code",
      "source": [
        "liste =[{\"ad\":\"Ahmet\",\"yas\":22},{\"ad\":\"Ali\",\"yas\":19},{\"ad\":\"Berk\",\"yas\":25},{\"ad\":\"Kara\",\"yas\":18}]\n",
        "a_basla = list(filter(lambda kisi:kisi[\"ad\"].startswith(\"A\"),liste))\n",
        "print(a_basla)\n",
        "yirmi_buyuk = list(filter(lambda yasa:yasa[\"yas\"] > 20, liste ))\n",
        "print(yirmi_buyuk)"
      ],
      "metadata": {
        "colab": {
          "base_uri": "https://localhost:8080/"
        },
        "id": "lRUWEnICM9yn",
        "outputId": "14e51db7-f95d-4fbe-ba72-dcad64fec470"
      },
      "execution_count": null,
      "outputs": [
        {
          "output_type": "stream",
          "name": "stdout",
          "text": [
            "[{'ad': 'Ahmet', 'yas': 22}, {'ad': 'Ali', 'yas': 19}]\n",
            "[{'ad': 'Ahmet', 'yas': 22}, {'ad': 'Berk', 'yas': 25}]\n"
          ]
        }
      ]
    },
    {
      "cell_type": "code",
      "source": [
        ""
      ],
      "metadata": {
        "id": "gCY0S712M98_"
      },
      "execution_count": null,
      "outputs": []
    },
    {
      "cell_type": "code",
      "source": [
        ""
      ],
      "metadata": {
        "id": "T71hP90UM9_-"
      },
      "execution_count": null,
      "outputs": []
    },
    {
      "cell_type": "code",
      "source": [
        ""
      ],
      "metadata": {
        "id": "Mt6G0EHkM-C-"
      },
      "execution_count": null,
      "outputs": []
    }
  ]
}