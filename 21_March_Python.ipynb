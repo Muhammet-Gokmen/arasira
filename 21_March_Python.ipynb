{
  "nbformat": 4,
  "nbformat_minor": 0,
  "metadata": {
    "colab": {
      "name": "21 March Python.ipynb",
      "provenance": [],
      "collapsed_sections": [],
      "authorship_tag": "ABX9TyM3hoxR1J/3xZcrBduS0jV8",
      "include_colab_link": true
    },
    "kernelspec": {
      "name": "python3",
      "display_name": "Python 3"
    },
    "language_info": {
      "name": "python"
    }
  },
  "cells": [
    {
      "cell_type": "markdown",
      "metadata": {
        "id": "view-in-github",
        "colab_type": "text"
      },
      "source": [
        "<a href=\"https://colab.research.google.com/github/arasira/arasira/blob/main/21_March_Python.ipynb\" target=\"_parent\"><img src=\"https://colab.research.google.com/assets/colab-badge.svg\" alt=\"Open In Colab\"/></a>"
      ]
    },
    {
      "cell_type": "code",
      "execution_count": null,
      "metadata": {
        "colab": {
          "base_uri": "https://localhost:8080/",
          "height": 132
        },
        "id": "f58mJ-SlpAx-",
        "outputId": "840af8f0-20b4-46f5-ccf4-59f65d037440"
      },
      "outputs": [
        {
          "output_type": "error",
          "ename": "SyntaxError",
          "evalue": "ignored",
          "traceback": [
            "\u001b[0;36m  File \u001b[0;32m\"<ipython-input-6-9450fbb145f6>\"\u001b[0;36m, line \u001b[0;32m2\u001b[0m\n\u001b[0;31m    for i in filter(lambda x:len(i)<5, words):\u001b[0m\n\u001b[0m                                              ^\u001b[0m\n\u001b[0;31mSyntaxError\u001b[0m\u001b[0;31m:\u001b[0m unexpected EOF while parsing\n"
          ]
        }
      ],
      "source": [
        "words=[\"adam\",\"baca\",\"clock\",\"banana\",\"swim\"]\n",
        "for i in filter(lambda x:len(x)<5, words):"
      ]
    },
    {
      "cell_type": "code",
      "source": [
        "def modular_function(n):\n",
        "    return lambda x: x ** n\n",
        "    \n",
        "power_of_2 = modular_function(2)  # first sub-function derived from def\n",
        "power_of_3 = modular_function(3)  # second sub-function derived from def\n",
        "power_of_4 = modular_function(4)  # third sub-function derived from def\n",
        "\n",
        "print(power_of_2(2))  # 2 to the power of 2\n",
        "print(power_of_3(2))  # 2 to the power of 3\n",
        "print(power_of_4(2))  # 2 to the power of 4"
      ],
      "metadata": {
        "colab": {
          "base_uri": "https://localhost:8080/"
        },
        "id": "dRqumgW4yhsc",
        "outputId": "60574ffb-958e-49e4-8ee3-5f1252a19894"
      },
      "execution_count": 1,
      "outputs": [
        {
          "output_type": "stream",
          "name": "stdout",
          "text": [
            "4\n",
            "8\n",
            "16\n"
          ]
        }
      ]
    },
    {
      "cell_type": "code",
      "source": [
        "first_ten =['a','b','c','d','e','f','g','h','i','j']\n",
        "vowels = [\"a\",\"e\",\"i\"]"
      ],
      "metadata": {
        "id": "Uq7pTKZCqShA"
      },
      "execution_count": null,
      "outputs": []
    },
    {
      "cell_type": "code",
      "source": [
        "#fonk = lambda x: True if x in vowels else False\n",
        "vowels_f= filter (lambda x: True if x in vowels else False , first_ten)\n"
      ],
      "metadata": {
        "id": "JYpbQ1p3sP00"
      },
      "execution_count": null,
      "outputs": []
    },
    {
      "cell_type": "code",
      "source": [
        "list(vowels_f)"
      ],
      "metadata": {
        "colab": {
          "base_uri": "https://localhost:8080/"
        },
        "id": "EWU0QX0ltAi-",
        "outputId": "4f3e2672-b388-4e2c-ad78-9c05b2f0a2a4"
      },
      "execution_count": null,
      "outputs": [
        {
          "output_type": "execute_result",
          "data": {
            "text/plain": [
              "['a', 'e', 'i']"
            ]
          },
          "metadata": {},
          "execution_count": 5
        }
      ]
    },
    {
      "cell_type": "code",
      "source": [
        "def modular(n):  ##bu fonksiyonun içindeki return lambda x: x**n kodu gereği; n,  2 değerini alacaktır ve lambdanın alacağı parametrenin (x'in) karesini return edecektir. Bunu eğer karesini_al gibi bir değişkene atarsak ve o değişkeni çağırken yanına x parametresine gidecek şekilde örneğin (5) yazarsak o zaman fonksiyon tıpkı şunu yapacaktır: (lambda x: x ** 2) (5) :scream: Yani lambda fonksiyonundaki x yerine 5 gidecektir ve modular() fonksiyonunda n, 2 değerini aldığı için 5'in karesini alacaktır.\n",
        "  return lambda x : x ** n"
      ],
      "metadata": {
        "id": "YwbRr3G8tkL3"
      },
      "execution_count": 2,
      "outputs": []
    },
    {
      "cell_type": "code",
      "source": [
        "kupunu_al = modular(3)"
      ],
      "metadata": {
        "id": "pwVFitbQuQdG"
      },
      "execution_count": null,
      "outputs": []
    },
    {
      "cell_type": "code",
      "source": [
        "kupunu_al   ## lambda object bir fonksiyon verir. lambda x : x ** n bunlu ayni\n"
      ],
      "metadata": {
        "colab": {
          "base_uri": "https://localhost:8080/"
        },
        "id": "ThmM6MNVuQgO",
        "outputId": "6f4e2733-65f5-4ccb-ce63-c4bb59e7139a"
      },
      "execution_count": null,
      "outputs": [
        {
          "output_type": "execute_result",
          "data": {
            "text/plain": [
              "<function __main__.modular.<locals>.<lambda>>"
            ]
          },
          "metadata": {},
          "execution_count": 10
        }
      ]
    },
    {
      "cell_type": "code",
      "source": [
        "(lambda x : x ** 3)(4)"
      ],
      "metadata": {
        "colab": {
          "base_uri": "https://localhost:8080/"
        },
        "id": "EEH8XgNzuQi-",
        "outputId": "e326f6d1-b47f-4b4f-bcf1-52a7d7d9f8e2"
      },
      "execution_count": null,
      "outputs": [
        {
          "output_type": "execute_result",
          "data": {
            "text/plain": [
              "64"
            ]
          },
          "metadata": {},
          "execution_count": 12
        }
      ]
    },
    {
      "cell_type": "code",
      "source": [
        "kupunu_al(4)  ## yukaridaki ile ayni"
      ],
      "metadata": {
        "colab": {
          "base_uri": "https://localhost:8080/"
        },
        "id": "9BuKcSxYuQlY",
        "outputId": "3f1d1197-91b4-4a8c-cd78-73989b77de1e"
      },
      "execution_count": null,
      "outputs": [
        {
          "output_type": "execute_result",
          "data": {
            "text/plain": [
              "64"
            ]
          },
          "metadata": {},
          "execution_count": 13
        }
      ]
    },
    {
      "cell_type": "code",
      "source": [
        "def abc(n):\n",
        "  return lambda x:x*(n)"
      ],
      "metadata": {
        "id": "w6HVLSr7uQoD"
      },
      "execution_count": null,
      "outputs": []
    },
    {
      "cell_type": "code",
      "source": [
        "repeat_2_times = abc(2)"
      ],
      "metadata": {
        "id": "zXs04NWTuQqy"
      },
      "execution_count": null,
      "outputs": []
    },
    {
      "cell_type": "code",
      "source": [
        "print(repeat_2_times(\"Ahmed\"))"
      ],
      "metadata": {
        "colab": {
          "base_uri": "https://localhost:8080/"
        },
        "id": "QAVkl7OyxRoV",
        "outputId": "1d693227-b30d-420a-d92c-80e75d3d4a66"
      },
      "execution_count": null,
      "outputs": [
        {
          "output_type": "stream",
          "name": "stdout",
          "text": [
            "AhmedAhmed\n"
          ]
        }
      ]
    },
    {
      "cell_type": "code",
      "source": [
        "def functioner(emoji = None):   ## burada None denmesinin nedeni emoji ye birsey tanimli degil.\n",
        "  return lambda message : print(message,emoji) "
      ],
      "metadata": {
        "id": "A8G0sWA0xhOx"
      },
      "execution_count": 3,
      "outputs": []
    },
    {
      "cell_type": "code",
      "source": [
        "gulen_yuz = functioner(\" :) \")"
      ],
      "metadata": {
        "id": "zr2lOWw6zlUY"
      },
      "execution_count": 4,
      "outputs": []
    },
    {
      "cell_type": "code",
      "source": [
        "gulen_yuz([1,2,3])"
      ],
      "metadata": {
        "colab": {
          "base_uri": "https://localhost:8080/"
        },
        "id": "pF51z7I0zvfB",
        "outputId": "ca5cc182-9223-41b8-eedc-c9fd4a65624c"
      },
      "execution_count": 5,
      "outputs": [
        {
          "output_type": "stream",
          "name": "stdout",
          "text": [
            "[1, 2, 3]  :) \n"
          ]
        }
      ]
    },
    {
      "cell_type": "code",
      "source": [
        "gulen_yuz(\"Ahmed\")"
      ],
      "metadata": {
        "colab": {
          "base_uri": "https://localhost:8080/"
        },
        "id": "87REg5OAz3dF",
        "outputId": "e00a2c94-454e-402c-aefe-40b7111384b4"
      },
      "execution_count": 6,
      "outputs": [
        {
          "output_type": "stream",
          "name": "stdout",
          "text": [
            "Ahmed  :) \n"
          ]
        }
      ]
    },
    {
      "cell_type": "code",
      "source": [
        "agla_sen= functioner(\" :( \")   ### buradaki :( ifade emoji ye gider."
      ],
      "metadata": {
        "id": "VIL1wgFM2rzs"
      },
      "execution_count": 8,
      "outputs": []
    },
    {
      "cell_type": "code",
      "source": [
        "agla_sen(\"kimse aglamasin\")"
      ],
      "metadata": {
        "colab": {
          "base_uri": "https://localhost:8080/"
        },
        "id": "NZQktfJm3IZm",
        "outputId": "e6e71cbf-2a73-4d48-ae84-27a702d5c795"
      },
      "execution_count": 10,
      "outputs": [
        {
          "output_type": "stream",
          "name": "stdout",
          "text": [
            "kimse aglamasin  :( \n"
          ]
        }
      ]
    },
    {
      "cell_type": "code",
      "source": [
        "(lambda x: print(x, \":(\"))(66)  ### kisa yolu"
      ],
      "metadata": {
        "colab": {
          "base_uri": "https://localhost:8080/"
        },
        "id": "7w6Em2ae3Osf",
        "outputId": "8e1b8109-7bcd-46ad-b888-b48d15b08d05"
      },
      "execution_count": 11,
      "outputs": [
        {
          "output_type": "stream",
          "name": "stdout",
          "text": [
            "66 :(\n"
          ]
        }
      ]
    },
    {
      "cell_type": "code",
      "source": [
        "ali_print() --> print()\n",
        "ali_max() --> max()\n",
        "ali_bool() --> bool()\n",
        "ali_sorted --> sorted()"
      ],
      "metadata": {
        "id": "Re1xpbpo3wc-"
      },
      "execution_count": null,
      "outputs": []
    },
    {
      "cell_type": "code",
      "source": [
        "def function_generator():\n",
        "  return\n"
      ],
      "metadata": {
        "id": "nkf9ut-j4OEK"
      },
      "execution_count": 16,
      "outputs": []
    },
    {
      "cell_type": "code",
      "source": [
        "(lambda x : print(x))(\"ali ve veli\")"
      ],
      "metadata": {
        "colab": {
          "base_uri": "https://localhost:8080/"
        },
        "id": "4V-ZHzFJ6PMc",
        "outputId": "d56a3c7b-6228-467e-e1e5-957c34a455ff"
      },
      "execution_count": 18,
      "outputs": [
        {
          "output_type": "stream",
          "name": "stdout",
          "text": [
            "ali ve veli\n"
          ]
        }
      ]
    },
    {
      "cell_type": "code",
      "source": [
        "(lambda x : max(x))([1,2,3])"
      ],
      "metadata": {
        "colab": {
          "base_uri": "https://localhost:8080/"
        },
        "id": "z6iNxYqd6XUD",
        "outputId": "31819837-dff0-45bb-99cd-ad1798453dea"
      },
      "execution_count": 20,
      "outputs": [
        {
          "output_type": "execute_result",
          "data": {
            "text/plain": [
              "3"
            ]
          },
          "metadata": {},
          "execution_count": 20
        }
      ]
    },
    {
      "cell_type": "code",
      "source": [
        "def function_generators(function_name):  ## ben buraya function name e max yazsam max(x) olur\n",
        "  return lambda x : function_name(x)"
      ],
      "metadata": {
        "id": "irer0_MB6fbr"
      },
      "execution_count": 24,
      "outputs": []
    },
    {
      "cell_type": "code",
      "source": [
        "gokmen_print= function_generators(print)"
      ],
      "metadata": {
        "id": "FKwXTo7d6fel"
      },
      "execution_count": 25,
      "outputs": []
    },
    {
      "cell_type": "code",
      "source": [
        "gokmen_max =function_generators(max)"
      ],
      "metadata": {
        "id": "hoyEFQcL6fhi"
      },
      "execution_count": 26,
      "outputs": []
    },
    {
      "cell_type": "code",
      "source": [
        "gokmen_bool =function_generators(bool)"
      ],
      "metadata": {
        "id": "t0dYuiZa8Dvq"
      },
      "execution_count": 27,
      "outputs": []
    },
    {
      "cell_type": "code",
      "source": [
        ""
      ],
      "metadata": {
        "id": "CxYfqAAZ8NFI"
      },
      "execution_count": null,
      "outputs": []
    },
    {
      "cell_type": "code",
      "source": [
        "def x():\n",
        "  return 1,2,3,4,5"
      ],
      "metadata": {
        "id": "fbsuN4PH8Og4"
      },
      "execution_count": 29,
      "outputs": []
    },
    {
      "cell_type": "code",
      "source": [
        "type(x())"
      ],
      "metadata": {
        "colab": {
          "base_uri": "https://localhost:8080/"
        },
        "id": "QyjnSQn18Wvp",
        "outputId": "2107bca5-003a-4ee7-f6e1-80bcb6f805d1"
      },
      "execution_count": 31,
      "outputs": [
        {
          "output_type": "execute_result",
          "data": {
            "text/plain": [
              "tuple"
            ]
          },
          "metadata": {},
          "execution_count": 31
        }
      ]
    },
    {
      "cell_type": "code",
      "source": [
        "num = [1,4,4]\n",
        "max(num,key=num.count)   ### bu bize en cok tekrar eden hangi sayi ise onu verir."
      ],
      "metadata": {
        "colab": {
          "base_uri": "https://localhost:8080/"
        },
        "id": "4L-76z_H8tH4",
        "outputId": "624bfd24-6418-46d5-c3fa-391af3e3fa49"
      },
      "execution_count": 32,
      "outputs": [
        {
          "output_type": "execute_result",
          "data": {
            "text/plain": [
              "4"
            ]
          },
          "metadata": {},
          "execution_count": 32
        }
      ]
    },
    {
      "cell_type": "code",
      "source": [
        "tekrar_sayisi= num.count(max(num,key=num.count))   ## ayni sayi kac kez tekrar etmis onu verir.\n",
        "tekrar_sayisi"
      ],
      "metadata": {
        "colab": {
          "base_uri": "https://localhost:8080/"
        },
        "id": "sDzGFKYO9bRs",
        "outputId": "cee298cd-d9eb-442a-e25a-b77657c048c6"
      },
      "execution_count": 33,
      "outputs": [
        {
          "output_type": "execute_result",
          "data": {
            "text/plain": [
              "2"
            ]
          },
          "metadata": {},
          "execution_count": 33
        }
      ]
    },
    {
      "cell_type": "code",
      "source": [
        "def equal(a,b,c):\n",
        "  num=[a,b,c]\n",
        "  sonuc = num.count(max(num, key= num.count))\n",
        "  if sonuc > 1:\n",
        "    return sonuc\n",
        "  else:\n",
        "    return 0  "
      ],
      "metadata": {
        "id": "W5uyAKpE9yCL"
      },
      "execution_count": 34,
      "outputs": []
    },
    {
      "cell_type": "code",
      "source": [
        "equal(4,4,4)"
      ],
      "metadata": {
        "colab": {
          "base_uri": "https://localhost:8080/"
        },
        "id": "fhzJipUsABzb",
        "outputId": "320f1779-c45e-4936-bd15-96bfc7fd415d"
      },
      "execution_count": 35,
      "outputs": [
        {
          "output_type": "execute_result",
          "data": {
            "text/plain": [
              "3"
            ]
          },
          "metadata": {},
          "execution_count": 35
        }
      ]
    },
    {
      "cell_type": "code",
      "source": [
        "equal(1,2,3)"
      ],
      "metadata": {
        "colab": {
          "base_uri": "https://localhost:8080/"
        },
        "id": "DEptvsqbAGmJ",
        "outputId": "6ba50533-b7ec-4e11-a381-8d3c88eb5f8d"
      },
      "execution_count": 36,
      "outputs": [
        {
          "output_type": "execute_result",
          "data": {
            "text/plain": [
              "0"
            ]
          },
          "metadata": {},
          "execution_count": 36
        }
      ]
    },
    {
      "cell_type": "code",
      "source": [
        "equal(\"ahmet\",\"ahmet\",\"ahmet\")"
      ],
      "metadata": {
        "colab": {
          "base_uri": "https://localhost:8080/"
        },
        "id": "F6a_q6AtALCh",
        "outputId": "5a4e33ec-5438-4f2c-fdb1-9b011d781dc7"
      },
      "execution_count": 38,
      "outputs": [
        {
          "output_type": "execute_result",
          "data": {
            "text/plain": [
              "3"
            ]
          },
          "metadata": {},
          "execution_count": 38
        }
      ]
    },
    {
      "cell_type": "code",
      "source": [
        "def equal(*arg):      # uc elemanli degil daha fazla eleman yazilabilir\n",
        "  num= list(arg)\n",
        "  sonuc = num.count(max(num, key= num.count))\n",
        "  if sonuc > 1:\n",
        "    return sonuc\n",
        "  else:\n",
        "    return 0  "
      ],
      "metadata": {
        "id": "Db0wTTFKAdz5"
      },
      "execution_count": 40,
      "outputs": []
    },
    {
      "cell_type": "code",
      "source": [
        "equal(1,1,1,3,4,5,3)"
      ],
      "metadata": {
        "colab": {
          "base_uri": "https://localhost:8080/"
        },
        "id": "tbw2nDBoA6mR",
        "outputId": "1fec90bd-0b6d-483c-d254-a17134e25ab4"
      },
      "execution_count": 41,
      "outputs": [
        {
          "output_type": "execute_result",
          "data": {
            "text/plain": [
              "3"
            ]
          },
          "metadata": {},
          "execution_count": 41
        }
      ]
    },
    {
      "cell_type": "code",
      "source": [
        "equalambda = lambda x: max(x,key=x.count )"
      ],
      "metadata": {
        "id": "zNUw9NwOA6tU"
      },
      "execution_count": 44,
      "outputs": []
    },
    {
      "cell_type": "code",
      "source": [
        "equalambda([1,2,3,4,4])"
      ],
      "metadata": {
        "colab": {
          "base_uri": "https://localhost:8080/"
        },
        "id": "7dcpdOmaBJRc",
        "outputId": "8099287a-0c5b-4b54-89e2-1b04d195271f"
      },
      "execution_count": 45,
      "outputs": [
        {
          "output_type": "execute_result",
          "data": {
            "text/plain": [
              "4"
            ]
          },
          "metadata": {},
          "execution_count": 45
        }
      ]
    },
    {
      "cell_type": "code",
      "source": [
        "equalamb = lambda x,y,z : [x,y,z].count(max([x,y,z], key= [x,y,z].count))"
      ],
      "metadata": {
        "id": "87x6sGqSBJUc"
      },
      "execution_count": 46,
      "outputs": []
    },
    {
      "cell_type": "code",
      "source": [
        "equalamb(1,2,2)"
      ],
      "metadata": {
        "colab": {
          "base_uri": "https://localhost:8080/"
        },
        "id": "7qet6YtkBJXf",
        "outputId": "0c2b1846-7c77-4c9e-fc9e-3b8af1393f5a"
      },
      "execution_count": 47,
      "outputs": [
        {
          "output_type": "execute_result",
          "data": {
            "text/plain": [
              "2"
            ]
          },
          "metadata": {},
          "execution_count": 47
        }
      ]
    },
    {
      "cell_type": "code",
      "source": [
        "# ### sonuc [x,y,z].count(max([x,y,z], key= [x,y,z].count)) bu"
      ],
      "metadata": {
        "id": "Uw-kE-XUBJdQ"
      },
      "execution_count": null,
      "outputs": []
    },
    {
      "cell_type": "code",
      "source": [
        "equalambav = lambda x,y,z : [x,y,z].count(max([x,y,z], key= [x,y,z].count))\\\n",
        "if [x,y,z].count(max([x,y,z], key= [x,y,z].count)) > 1 else 0"
      ],
      "metadata": {
        "id": "DyPT9JRGJUE7"
      },
      "execution_count": 51,
      "outputs": []
    },
    {
      "cell_type": "code",
      "source": [
        "equalambav(1,2,3)"
      ],
      "metadata": {
        "colab": {
          "base_uri": "https://localhost:8080/"
        },
        "id": "6F0gP7CdJfFY",
        "outputId": "5328fcf5-cd87-40cd-f508-f04739b70673"
      },
      "execution_count": 52,
      "outputs": [
        {
          "output_type": "execute_result",
          "data": {
            "text/plain": [
              "0"
            ]
          },
          "metadata": {},
          "execution_count": 52
        }
      ]
    },
    {
      "cell_type": "code",
      "source": [
        "equalambav(2,2,2)"
      ],
      "metadata": {
        "colab": {
          "base_uri": "https://localhost:8080/"
        },
        "id": "Bx2Efqr7Jkwp",
        "outputId": "8d259921-da7b-4669-f1fd-2792b010c34a"
      },
      "execution_count": 54,
      "outputs": [
        {
          "output_type": "execute_result",
          "data": {
            "text/plain": [
              "3"
            ]
          },
          "metadata": {},
          "execution_count": 54
        }
      ]
    },
    {
      "cell_type": "code",
      "source": [
        "equalambaan = lambda *x : list(x).count(max(list(x), key= list(x).count))\\\n",
        "if list(x).count(max(list(x), key= list(x).count)) > 1 else 0"
      ],
      "metadata": {
        "id": "4zTZtE-cBJaE"
      },
      "execution_count": 57,
      "outputs": []
    },
    {
      "cell_type": "code",
      "source": [
        "equalambaan(1,1,1,3,3,4,4)"
      ],
      "metadata": {
        "colab": {
          "base_uri": "https://localhost:8080/"
        },
        "id": "ZATFANC_JQe8",
        "outputId": "9463d456-39b3-4162-cc8f-4fcfbcd5c5e1"
      },
      "execution_count": 58,
      "outputs": [
        {
          "output_type": "execute_result",
          "data": {
            "text/plain": [
              "3"
            ]
          },
          "metadata": {},
          "execution_count": 58
        }
      ]
    },
    {
      "cell_type": "code",
      "source": [
        "from google.colab import drive\n",
        "drive.mount('/content/drive')"
      ],
      "metadata": {
        "id": "SLpzZulaMprj"
      },
      "execution_count": null,
      "outputs": []
    }
  ]
}