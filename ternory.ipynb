{
  "nbformat": 4,
  "nbformat_minor": 0,
  "metadata": {
    "colab": {
      "name": "ternory.ipynb",
      "provenance": [],
      "authorship_tag": "ABX9TyPAdp4wtQrZafcAezBiCnuA",
      "include_colab_link": true
    },
    "kernelspec": {
      "name": "python3",
      "display_name": "Python 3"
    },
    "language_info": {
      "name": "python"
    }
  },
  "cells": [
    {
      "cell_type": "markdown",
      "metadata": {
        "id": "view-in-github",
        "colab_type": "text"
      },
      "source": [
        "<a href=\"https://colab.research.google.com/github/arasira/arasira/blob/main/ternory.ipynb\" target=\"_parent\"><img src=\"https://colab.research.google.com/assets/colab-badge.svg\" alt=\"Open In Colab\"/></a>"
      ]
    },
    {
      "cell_type": "code",
      "execution_count": null,
      "metadata": {
        "colab": {
          "base_uri": "https://localhost:8080/"
        },
        "id": "dEnTkSAZh6X5",
        "outputId": "b94586c8-2b6c-443b-eea6-fd71eec3e186"
      },
      "outputs": [
        {
          "output_type": "stream",
          "name": "stdout",
          "text": [
            "odd numbers: 5\n",
            "even numbers: 6\n"
          ]
        }
      ],
      "source": [
        "numbers = [3,5,23,27,28,35,42,56,58,64,64]\n",
        "odds = 0\n",
        "evens = 0\n",
        "for i in numbers:\n",
        "  if i % 2 == 0:\n",
        "    evens +=1\n",
        "  else:\n",
        "    odds +=1\n",
        "print(\"odd numbers:\",odds)\n",
        "print(\"even numbers:\",evens)    "
      ]
    },
    {
      "cell_type": "code",
      "source": [
        "for i in range(1,9):\n",
        "  print(str(i) * i)\n",
        "  \n"
      ],
      "metadata": {
        "colab": {
          "base_uri": "https://localhost:8080/"
        },
        "id": "Gc2ZYigdkwXT",
        "outputId": "225a3b24-8f03-4500-da5b-ea0486971727"
      },
      "execution_count": null,
      "outputs": [
        {
          "output_type": "stream",
          "name": "stdout",
          "text": [
            "1\n",
            "22\n",
            "333\n",
            "4444\n",
            "55555\n",
            "666666\n",
            "7777777\n",
            "88888888\n"
          ]
        }
      ]
    },
    {
      "cell_type": "code",
      "source": [
        "sum_num = 0\n",
        "for i in range(1,75):\n",
        "  sum_num += i\n",
        "print(sum_num)\n",
        "  "
      ],
      "metadata": {
        "colab": {
          "base_uri": "https://localhost:8080/"
        },
        "id": "JnYOTrSrl4-A",
        "outputId": "61e7d131-c987-4ed3-d4b3-fc7f52a3df51"
      },
      "execution_count": null,
      "outputs": [
        {
          "output_type": "stream",
          "name": "stdout",
          "text": [
            "2775\n"
          ]
        }
      ]
    },
    {
      "cell_type": "code",
      "source": [
        "### NESTED FOR LOOP"
      ],
      "metadata": {
        "id": "vq5cPYJLpaEU"
      },
      "execution_count": null,
      "outputs": []
    },
    {
      "cell_type": "code",
      "source": [
        "who = ['I am' , 'You are']\n",
        "mood = [' happy',' confident']\n",
        "for i in who:\n",
        "  for ii in mood:\n",
        "    print(i + ii)"
      ],
      "metadata": {
        "colab": {
          "base_uri": "https://localhost:8080/"
        },
        "id": "kPxQoFtjpylK",
        "outputId": "070ec0d9-0b60-4567-c61e-99b03647d913"
      },
      "execution_count": null,
      "outputs": [
        {
          "output_type": "stream",
          "name": "stdout",
          "text": [
            "I am happy\n",
            "I am confident\n",
            "You are happy\n",
            "You are confident\n"
          ]
        }
      ]
    },
    {
      "cell_type": "code",
      "source": [
        "names =[\"Susan\",\"Tom\",\"Edward\"]\n",
        "moods= [\" happy\",\" sad\"]\n",
        "for i in names:\n",
        "  for ii in moods:\n",
        "    print(i + \" is\" +  ii)"
      ],
      "metadata": {
        "colab": {
          "base_uri": "https://localhost:8080/"
        },
        "id": "5yE8MyTppynz",
        "outputId": "48e75e31-92f7-4662-f4b8-f42e08905556"
      },
      "execution_count": null,
      "outputs": [
        {
          "output_type": "stream",
          "name": "stdout",
          "text": [
            "Susan is happy\n",
            "Susan is sad\n",
            "Tom is happy\n",
            "Tom is sad\n",
            "Edward is happy\n",
            "Edward is sad\n"
          ]
        }
      ]
    },
    {
      "cell_type": "code",
      "source": [
        "#unpacking\n",
        "tuple(range(1,8))"
      ],
      "metadata": {
        "id": "xCpFZkuMpyqV",
        "colab": {
          "base_uri": "https://localhost:8080/"
        },
        "outputId": "0806f617-522f-452d-fc20-28e58fc37420"
      },
      "execution_count": 20,
      "outputs": [
        {
          "output_type": "execute_result",
          "data": {
            "text/plain": [
              "(1, 2, 3, 4, 5, 6, 7)"
            ]
          },
          "metadata": {},
          "execution_count": 20
        }
      ]
    },
    {
      "cell_type": "code",
      "source": [
        "(monday,tuesday,wednesday,thursday,friday,saturday,sunday)=tuple(range(1,8))"
      ],
      "metadata": {
        "id": "QCvg3MNZpys6"
      },
      "execution_count": 21,
      "outputs": []
    },
    {
      "cell_type": "code",
      "source": [
        "monday"
      ],
      "metadata": {
        "id": "DF-RnZBDpyvY",
        "colab": {
          "base_uri": "https://localhost:8080/"
        },
        "outputId": "e59d04c5-f791-4685-ee94-d06de16f0594"
      },
      "execution_count": 22,
      "outputs": [
        {
          "output_type": "execute_result",
          "data": {
            "text/plain": [
              "1"
            ]
          },
          "metadata": {},
          "execution_count": 22
        }
      ]
    },
    {
      "cell_type": "code",
      "source": [
        "# place holder _   bu hafizada yer tutmaz\n",
        "a,_,b,_ = (10,20,30,40)\n",
        "a,b"
      ],
      "metadata": {
        "id": "2wNQ8uL3pyx5",
        "colab": {
          "base_uri": "https://localhost:8080/"
        },
        "outputId": "ef45e79b-5eb7-4d03-8d3e-763ccb1b59bd"
      },
      "execution_count": 24,
      "outputs": [
        {
          "output_type": "execute_result",
          "data": {
            "text/plain": [
              "(10, 30)"
            ]
          },
          "metadata": {},
          "execution_count": 24
        }
      ]
    },
    {
      "cell_type": "code",
      "source": [
        "# burada * kalan sayilarin liste icinde cikmasina ve birden fazla eleman atamaya yarar.\n",
        "x,y,*z = (11,22,33,44,55,66)"
      ],
      "metadata": {
        "id": "FIUv_IKKpy1h"
      },
      "execution_count": 25,
      "outputs": []
    },
    {
      "cell_type": "code",
      "source": [
        "x"
      ],
      "metadata": {
        "colab": {
          "base_uri": "https://localhost:8080/"
        },
        "id": "dGCuENZ4v9MV",
        "outputId": "54c51eb8-a08e-4a0c-dc5c-914f455c9e4f"
      },
      "execution_count": 26,
      "outputs": [
        {
          "output_type": "execute_result",
          "data": {
            "text/plain": [
              "11"
            ]
          },
          "metadata": {},
          "execution_count": 26
        }
      ]
    },
    {
      "cell_type": "code",
      "source": [
        "z"
      ],
      "metadata": {
        "colab": {
          "base_uri": "https://localhost:8080/"
        },
        "id": "RS-WehWxv9PI",
        "outputId": "31e0c7be-6327-4611-9f7f-912cf9937449"
      },
      "execution_count": 27,
      "outputs": [
        {
          "output_type": "execute_result",
          "data": {
            "text/plain": [
              "[33, 44, 55, 66]"
            ]
          },
          "metadata": {},
          "execution_count": 27
        }
      ]
    },
    {
      "cell_type": "code",
      "source": [
        "# *_ isareti ile biden fazla sayiya atama yapip hafizada yer vermez\n",
        "x,y,*_ = (11,22,33,44,55,66)"
      ],
      "metadata": {
        "id": "fwa2FHHkv9Sj"
      },
      "execution_count": 28,
      "outputs": []
    },
    {
      "cell_type": "code",
      "source": [
        "# *z arada elemanlarin degerini aldirir.\n",
        "x,y,*z,t = (11,22,33,44,55,66,77)"
      ],
      "metadata": {
        "id": "vDnD9IuIwSL2"
      },
      "execution_count": 29,
      "outputs": []
    },
    {
      "cell_type": "code",
      "source": [
        "x,y,*_,t = (11,22,33,44,55,66,77)"
      ],
      "metadata": {
        "id": "O0Or0wO-wSPM"
      },
      "execution_count": 30,
      "outputs": []
    },
    {
      "cell_type": "code",
      "source": [
        ""
      ],
      "metadata": {
        "id": "i1I17bs6wSSp"
      },
      "execution_count": 31,
      "outputs": []
    },
    {
      "cell_type": "markdown",
      "source": [
        "### LIST COMPREHENSION"
      ],
      "metadata": {
        "id": "Q2DyiWEjLFVi"
      }
    },
    {
      "cell_type": "code",
      "source": [
        "A = [1,2,3]\n",
        "B = [4,5,6]\n",
        "sayilar = [(a,b) for a in A for b in B]\n",
        "print(sayilar)"
      ],
      "metadata": {
        "colab": {
          "base_uri": "https://localhost:8080/"
        },
        "id": "N9SIy1Tjv9X3",
        "outputId": "6259c6e7-f6a6-4b4f-806e-fffb71692c6a"
      },
      "execution_count": 37,
      "outputs": [
        {
          "output_type": "stream",
          "name": "stdout",
          "text": [
            "[(1, 4), (1, 5), (1, 6), (2, 4), (2, 5), (2, 6), (3, 4), (3, 5), (3, 6)]\n"
          ]
        }
      ]
    },
    {
      "cell_type": "code",
      "source": [
        "# [expression for item in iterable]"
      ],
      "metadata": {
        "id": "9zxaWkyhxoEA"
      },
      "execution_count": 38,
      "outputs": []
    },
    {
      "cell_type": "code",
      "source": [
        "# for item in iterable:\n",
        "  # expression"
      ],
      "metadata": {
        "id": "8Uw1cBgKLM44"
      },
      "execution_count": 39,
      "outputs": []
    },
    {
      "cell_type": "code",
      "source": [
        "sayilar = []\n",
        "for i in range(5):\n",
        "  sayilar.append(i)\n",
        "sayilar  "
      ],
      "metadata": {
        "colab": {
          "base_uri": "https://localhost:8080/"
        },
        "id": "SY95lRdSLpmF",
        "outputId": "63e935b6-38b5-4e2b-dd82-acba6f6e1d31"
      },
      "execution_count": 41,
      "outputs": [
        {
          "output_type": "execute_result",
          "data": {
            "text/plain": [
              "[0, 1, 2, 3, 4]"
            ]
          },
          "metadata": {},
          "execution_count": 41
        }
      ]
    },
    {
      "cell_type": "code",
      "source": [
        "[i for i in range(5)]"
      ],
      "metadata": {
        "colab": {
          "base_uri": "https://localhost:8080/"
        },
        "id": "JsY6XjobLpiq",
        "outputId": "e65ad254-df70-4ff2-d4ca-086b1884c565"
      },
      "execution_count": 40,
      "outputs": [
        {
          "output_type": "execute_result",
          "data": {
            "text/plain": [
              "[0, 1, 2, 3, 4]"
            ]
          },
          "metadata": {},
          "execution_count": 40
        }
      ]
    },
    {
      "cell_type": "code",
      "source": [
        "[i**2 for i in range(1,6)]"
      ],
      "metadata": {
        "colab": {
          "base_uri": "https://localhost:8080/"
        },
        "id": "RDGXlX1sMS8Q",
        "outputId": "ae4e37ba-b6e3-40ce-baf1-86fec3dfee6d"
      },
      "execution_count": 42,
      "outputs": [
        {
          "output_type": "execute_result",
          "data": {
            "text/plain": [
              "[1, 4, 9, 16, 25]"
            ]
          },
          "metadata": {},
          "execution_count": 42
        }
      ]
    },
    {
      "cell_type": "code",
      "source": [
        "[[i**2] for i in range(1,7]  # her sonucun [] icinde olmasi icin exprensini [] almak yeterli"
      ],
      "metadata": {
        "colab": {
          "base_uri": "https://localhost:8080/"
        },
        "id": "J6GFve4-xoGv",
        "outputId": "9f117669-0440-482b-f1d9-33ae72b2f55a"
      },
      "execution_count": 43,
      "outputs": [
        {
          "output_type": "execute_result",
          "data": {
            "text/plain": [
              "[[1], [4], [9], [16], [25]]"
            ]
          },
          "metadata": {},
          "execution_count": 43
        }
      ]
    },
    {
      "cell_type": "code",
      "source": [
        "my_list = [1,2,3,4,5,6,7]\n",
        "new_list = []\n",
        "for i in my_list:\n",
        "  if i % 2 != 0:\n",
        "    new_list.append(i ** 2)"
      ],
      "metadata": {
        "id": "r08lLVClMzAx"
      },
      "execution_count": 5,
      "outputs": []
    },
    {
      "cell_type": "code",
      "source": [
        "new_list"
      ],
      "metadata": {
        "colab": {
          "base_uri": "https://localhost:8080/"
        },
        "id": "BXjO_z-8MzEB",
        "outputId": "989771b0-6f35-4e3f-accb-33d79615312a"
      },
      "execution_count": 47,
      "outputs": [
        {
          "output_type": "execute_result",
          "data": {
            "text/plain": [
              "[1, 9, 25, 49]"
            ]
          },
          "metadata": {},
          "execution_count": 47
        }
      ]
    },
    {
      "cell_type": "code",
      "source": [
        "[i**2 for i in my_list if i % 2 != 0 ] # tek satirda kod yazma TERNARY CONDITION olarak isimlendirilir."
      ],
      "metadata": {
        "colab": {
          "base_uri": "https://localhost:8080/"
        },
        "id": "k4td8JKNMzHp",
        "outputId": "b2762f20-e3d7-41f3-9dbb-3c9d2932ee1a"
      },
      "execution_count": 50,
      "outputs": [
        {
          "output_type": "execute_result",
          "data": {
            "text/plain": [
              "[1, 9, 25, 49]"
            ]
          },
          "metadata": {},
          "execution_count": 50
        }
      ]
    },
    {
      "cell_type": "code",
      "source": [
        "#ternary example\n",
        "condition = True\n",
        "if condition:\n",
        "  a= 1\n",
        "else:\n",
        "  a = 0\n",
        "print(a)  \n"
      ],
      "metadata": {
        "colab": {
          "base_uri": "https://localhost:8080/"
        },
        "id": "2HRLeYk1xoJJ",
        "outputId": "ecd880f2-0a7d-4447-fbf0-81f2833c689a"
      },
      "execution_count": 1,
      "outputs": [
        {
          "output_type": "stream",
          "name": "stdout",
          "text": [
            "1\n"
          ]
        }
      ]
    },
    {
      "cell_type": "code",
      "source": [
        "1 if condition else 0  # ternary tek blockta cod yazimi(if ternary)"
      ],
      "metadata": {
        "colab": {
          "base_uri": "https://localhost:8080/"
        },
        "id": "6ZrtOUmGQ_97",
        "outputId": "240622c5-7dad-4ab4-b371-86f24967e5c5"
      },
      "execution_count": 3,
      "outputs": [
        {
          "output_type": "execute_result",
          "data": {
            "text/plain": [
              "1"
            ]
          },
          "metadata": {},
          "execution_count": 3
        }
      ]
    },
    {
      "cell_type": "code",
      "source": [
        "[i for i in my_list if i % 2 ]"
      ],
      "metadata": {
        "colab": {
          "base_uri": "https://localhost:8080/"
        },
        "id": "3A13j5KITtvW",
        "outputId": "8cd3f1c1-6a9f-4837-934d-cd600210003c"
      },
      "execution_count": 6,
      "outputs": [
        {
          "output_type": "execute_result",
          "data": {
            "text/plain": [
              "[1, 3, 5, 7]"
            ]
          },
          "metadata": {},
          "execution_count": 6
        }
      ]
    },
    {
      "cell_type": "code",
      "source": [
        ""
      ],
      "metadata": {
        "id": "M4Y0HgoPTt-e"
      },
      "execution_count": null,
      "outputs": []
    },
    {
      "cell_type": "code",
      "source": [
        ""
      ],
      "metadata": {
        "id": "l6aytNdtTuBO"
      },
      "execution_count": null,
      "outputs": []
    },
    {
      "cell_type": "code",
      "source": [
        ""
      ],
      "metadata": {
        "id": "w6L903buTuEl"
      },
      "execution_count": null,
      "outputs": []
    },
    {
      "cell_type": "code",
      "source": [
        ""
      ],
      "metadata": {
        "id": "HMTieCZzRAAo"
      },
      "execution_count": null,
      "outputs": []
    },
    {
      "cell_type": "code",
      "source": [
        ""
      ],
      "metadata": {
        "id": "m9AKhBKHRADk"
      },
      "execution_count": null,
      "outputs": []
    },
    {
      "cell_type": "code",
      "source": [
        ""
      ],
      "metadata": {
        "id": "IhlNbxIuRAGz"
      },
      "execution_count": null,
      "outputs": []
    },
    {
      "cell_type": "code",
      "source": [
        ""
      ],
      "metadata": {
        "id": "pSQ6fTICxoMy"
      },
      "execution_count": null,
      "outputs": []
    }
  ]
}
