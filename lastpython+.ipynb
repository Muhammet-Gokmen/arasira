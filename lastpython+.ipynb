{
  "nbformat": 4,
  "nbformat_minor": 0,
  "metadata": {
    "colab": {
      "name": "lastpython+.ipynb",
      "provenance": [],
      "authorship_tag": "ABX9TyNk6sl1WOBOuT+VJZHBx57Z",
      "include_colab_link": true
    },
    "kernelspec": {
      "name": "python3",
      "display_name": "Python 3"
    },
    "language_info": {
      "name": "python"
    }
  },
  "cells": [
    {
      "cell_type": "markdown",
      "metadata": {
        "id": "view-in-github",
        "colab_type": "text"
      },
      "source": [
        "<a href=\"https://colab.research.google.com/github/arasira/arasira/blob/main/lastpython%2B.ipynb\" target=\"_parent\"><img src=\"https://colab.research.google.com/assets/colab-badge.svg\" alt=\"Open In Colab\"/></a>"
      ]
    },
    {
      "cell_type": "code",
      "execution_count": null,
      "metadata": {
        "id": "9yyRuGGDQ7n8"
      },
      "outputs": [],
      "source": [
        "### combination question"
      ]
    },
    {
      "cell_type": "code",
      "source": [
        "a= [1,2,3]"
      ],
      "metadata": {
        "id": "xfbNWHm6Rie5"
      },
      "execution_count": 1,
      "outputs": []
    },
    {
      "cell_type": "code",
      "source": [
        "x = [([1],[2,3],[4,5,6])]"
      ],
      "metadata": {
        "id": "0GyQrN8gRfTw"
      },
      "execution_count": 6,
      "outputs": []
    },
    {
      "cell_type": "code",
      "source": [
        "# [1,2,3,4,5,6]"
      ],
      "metadata": {
        "id": "j-gSFRQdRfaf"
      },
      "execution_count": 3,
      "outputs": []
    },
    {
      "cell_type": "code",
      "source": [
        "a= []\n",
        "for i in x:\n",
        "  for j in i:\n",
        "    for z in j:\n",
        "      a.append(z)\n",
        "a    "
      ],
      "metadata": {
        "colab": {
          "base_uri": "https://localhost:8080/"
        },
        "id": "OC4oVLZmRfdn",
        "outputId": "c9a450aa-8e5e-4610-e12f-7209bbf4cb71"
      },
      "execution_count": 9,
      "outputs": [
        {
          "output_type": "execute_result",
          "data": {
            "text/plain": [
              "[1, 2, 3, 4, 5, 6]"
            ]
          },
          "metadata": {},
          "execution_count": 9
        }
      ]
    },
    {
      "cell_type": "code",
      "source": [
        "[i for i in range(5)]"
      ],
      "metadata": {
        "colab": {
          "base_uri": "https://localhost:8080/"
        },
        "id": "4FjHvqxeRfgf",
        "outputId": "16a0e7ca-5ad3-4600-b739-ad95f64c51e6"
      },
      "execution_count": 10,
      "outputs": [
        {
          "output_type": "execute_result",
          "data": {
            "text/plain": [
              "[0, 1, 2, 3, 4]"
            ]
          },
          "metadata": {},
          "execution_count": 10
        }
      ]
    },
    {
      "cell_type": "code",
      "source": [
        "xList = \"elma armut muz\".split()\n",
        "xList"
      ],
      "metadata": {
        "colab": {
          "base_uri": "https://localhost:8080/"
        },
        "id": "naxHDpu_RfjR",
        "outputId": "da38d45a-bfa9-4810-ebe2-cb58c3b9baa3"
      },
      "execution_count": 13,
      "outputs": [
        {
          "output_type": "execute_result",
          "data": {
            "text/plain": [
              "['elma', 'armut', 'muz']"
            ]
          },
          "metadata": {},
          "execution_count": 13
        }
      ]
    },
    {
      "cell_type": "code",
      "source": [
        "yList =\"selvi vakit ayse\".split()\n",
        "yList"
      ],
      "metadata": {
        "colab": {
          "base_uri": "https://localhost:8080/"
        },
        "id": "ZnXPPTLoTYOO",
        "outputId": "404ab4d4-c05d-4376-bc95-afa8c3edd409"
      },
      "execution_count": 14,
      "outputs": [
        {
          "output_type": "execute_result",
          "data": {
            "text/plain": [
              "['selvi', 'vakit', 'ayse']"
            ]
          },
          "metadata": {},
          "execution_count": 14
        }
      ]
    },
    {
      "cell_type": "code",
      "source": [
        "result = []\n",
        "for i in xList:\n",
        "  for j in yList:\n",
        "    result.append(i+j)\n",
        "result    "
      ],
      "metadata": {
        "colab": {
          "base_uri": "https://localhost:8080/"
        },
        "id": "r9dTYTFaTYRV",
        "outputId": "50575e5e-5b24-4e60-9297-b1339b278e84"
      },
      "execution_count": 15,
      "outputs": [
        {
          "output_type": "execute_result",
          "data": {
            "text/plain": [
              "['elmaselvi',\n",
              " 'elmavakit',\n",
              " 'elmaayse',\n",
              " 'armutselvi',\n",
              " 'armutvakit',\n",
              " 'armutayse',\n",
              " 'muzselvi',\n",
              " 'muzvakit',\n",
              " 'muzayse']"
            ]
          },
          "metadata": {},
          "execution_count": 15
        }
      ]
    },
    {
      "cell_type": "code",
      "source": [
        "[i + j for i in xList for j in yList]  # append ile yaptigini code blogunun icinde yapar."
      ],
      "metadata": {
        "colab": {
          "base_uri": "https://localhost:8080/"
        },
        "id": "lapBoOuYTYUN",
        "outputId": "2e97efd2-4a0f-45c7-989e-5dd547516453"
      },
      "execution_count": 16,
      "outputs": [
        {
          "output_type": "execute_result",
          "data": {
            "text/plain": [
              "['elmaselvi',\n",
              " 'elmavakit',\n",
              " 'elmaayse',\n",
              " 'armutselvi',\n",
              " 'armutvakit',\n",
              " 'armutayse',\n",
              " 'muzselvi',\n",
              " 'muzvakit',\n",
              " 'muzayse']"
            ]
          },
          "metadata": {},
          "execution_count": 16
        }
      ]
    },
    {
      "cell_type": "code",
      "source": [
        "[[i + j] for i in xList for j in yList] "
      ],
      "metadata": {
        "colab": {
          "base_uri": "https://localhost:8080/"
        },
        "id": "bdSoImm2TYXN",
        "outputId": "b9c40134-904e-415d-dfb6-696a0967fe03"
      },
      "execution_count": 17,
      "outputs": [
        {
          "output_type": "execute_result",
          "data": {
            "text/plain": [
              "[['elmaselvi'],\n",
              " ['elmavakit'],\n",
              " ['elmaayse'],\n",
              " ['armutselvi'],\n",
              " ['armutvakit'],\n",
              " ['armutayse'],\n",
              " ['muzselvi'],\n",
              " ['muzvakit'],\n",
              " ['muzayse']]"
            ]
          },
          "metadata": {},
          "execution_count": 17
        }
      ]
    },
    {
      "cell_type": "code",
      "source": [
        "[{i : j} for i in xList for j in yList] "
      ],
      "metadata": {
        "colab": {
          "base_uri": "https://localhost:8080/"
        },
        "id": "q476-0AIVXMT",
        "outputId": "0b5b2493-649e-454f-9480-a3e3f2ba7bdf"
      },
      "execution_count": 18,
      "outputs": [
        {
          "output_type": "execute_result",
          "data": {
            "text/plain": [
              "[{'elma': 'selvi'},\n",
              " {'elma': 'vakit'},\n",
              " {'elma': 'ayse'},\n",
              " {'armut': 'selvi'},\n",
              " {'armut': 'vakit'},\n",
              " {'armut': 'ayse'},\n",
              " {'muz': 'selvi'},\n",
              " {'muz': 'vakit'},\n",
              " {'muz': 'ayse'}]"
            ]
          },
          "metadata": {},
          "execution_count": 18
        }
      ]
    },
    {
      "cell_type": "code",
      "source": [
        "result=[]\n",
        "sayi= [\"bir\",\"iki\",\"uc\"]\n",
        "for i in range(5):\n",
        "  if i % 2 == 0:\n",
        "    for j in sayi:\n",
        "      result.append(str(i) + \"-->\" + j)\n",
        "result      \n"
      ],
      "metadata": {
        "colab": {
          "base_uri": "https://localhost:8080/"
        },
        "id": "eIWZZtxlTYZ4",
        "outputId": "d3e20552-a389-4bcf-804b-dcf252f4ff68"
      },
      "execution_count": 20,
      "outputs": [
        {
          "output_type": "execute_result",
          "data": {
            "text/plain": [
              "['0-->bir',\n",
              " '0-->iki',\n",
              " '0-->uc',\n",
              " '2-->bir',\n",
              " '2-->iki',\n",
              " '2-->uc',\n",
              " '4-->bir',\n",
              " '4-->iki',\n",
              " '4-->uc']"
            ]
          },
          "metadata": {},
          "execution_count": 20
        }
      ]
    },
    {
      "cell_type": "code",
      "source": [
        "[str(i) + \"-->\" + j for i in range(5) for j in sayi if i % 2 == 0]"
      ],
      "metadata": {
        "colab": {
          "base_uri": "https://localhost:8080/"
        },
        "id": "YiPo-nbnTYcw",
        "outputId": "f3ab95e4-3200-4d82-8cc2-1e38869907d5"
      },
      "execution_count": 21,
      "outputs": [
        {
          "output_type": "execute_result",
          "data": {
            "text/plain": [
              "['0-->bir',\n",
              " '0-->iki',\n",
              " '0-->uc',\n",
              " '2-->bir',\n",
              " '2-->iki',\n",
              " '2-->uc',\n",
              " '4-->bir',\n",
              " '4-->iki',\n",
              " '4-->uc']"
            ]
          },
          "metadata": {},
          "execution_count": 21
        }
      ]
    },
    {
      "cell_type": "code",
      "source": [
        "solution = [[]]\n"
      ],
      "metadata": {
        "id": "hRZemaUpTYim"
      },
      "execution_count": 22,
      "outputs": []
    },
    {
      "cell_type": "code",
      "source": [
        "#solutoin-1 =[[1],[2],[3]]\n",
        "\n",
        "#solution-2=[[1,2,],[1,3],[2,3],[2,1],[3,1],[3,2]]\n",
        "\n",
        "#solution-3 = [[1,2,3], [1,3,2],[2,3,1],[2,1,3],[2,3,1],[3,1,2],[3,2,1]]"
      ],
      "metadata": {
        "id": "eTP6ZcbFWkL8"
      },
      "execution_count": null,
      "outputs": []
    },
    {
      "cell_type": "code",
      "source": [
        "for i in solution:\n",
        "  print(i)"
      ],
      "metadata": {
        "colab": {
          "base_uri": "https://localhost:8080/"
        },
        "id": "q5ZoNnN1WkPS",
        "outputId": "820ec211-2fa4-4ec6-ecfb-1d5f2e19d889"
      },
      "execution_count": 23,
      "outputs": [
        {
          "output_type": "stream",
          "name": "stdout",
          "text": [
            "[]\n"
          ]
        }
      ]
    },
    {
      "cell_type": "code",
      "source": [
        "len(solution)"
      ],
      "metadata": {
        "colab": {
          "base_uri": "https://localhost:8080/"
        },
        "id": "mpiIpKXFWkSL",
        "outputId": "b87123bb-ced7-4179-a098-f26e5f4620f2"
      },
      "execution_count": 24,
      "outputs": [
        {
          "output_type": "execute_result",
          "data": {
            "text/plain": [
              "1"
            ]
          },
          "metadata": {},
          "execution_count": 24
        }
      ]
    },
    {
      "cell_type": "code",
      "source": [
        "num =[1,2,3]\n",
        "num_set = set(num)\n",
        "num_set"
      ],
      "metadata": {
        "colab": {
          "base_uri": "https://localhost:8080/"
        },
        "id": "rU8zQNzrWkVe",
        "outputId": "bbcd124b-f06a-4cf2-caff-089a32fd2db8"
      },
      "execution_count": 25,
      "outputs": [
        {
          "output_type": "execute_result",
          "data": {
            "text/plain": [
              "{1, 2, 3}"
            ]
          },
          "metadata": {},
          "execution_count": 25
        }
      ]
    },
    {
      "cell_type": "code",
      "source": [
        "set([]) ## bir bir liste bos bir kume olur"
      ],
      "metadata": {
        "colab": {
          "base_uri": "https://localhost:8080/"
        },
        "id": "LVuIY536WkYa",
        "outputId": "e352a0a8-b003-4399-b193-1228db2c4bb2"
      },
      "execution_count": 26,
      "outputs": [
        {
          "output_type": "execute_result",
          "data": {
            "text/plain": [
              "set()"
            ]
          },
          "metadata": {},
          "execution_count": 26
        }
      ]
    },
    {
      "cell_type": "code",
      "source": [
        "set_bos_list= set ([])\n",
        "set_bos_list"
      ],
      "metadata": {
        "colab": {
          "base_uri": "https://localhost:8080/"
        },
        "id": "P2CYoBeJRfmI",
        "outputId": "fad0a6bc-1c72-4886-aeba-119c64f2762f"
      },
      "execution_count": 27,
      "outputs": [
        {
          "output_type": "execute_result",
          "data": {
            "text/plain": [
              "set()"
            ]
          },
          "metadata": {},
          "execution_count": 27
        }
      ]
    },
    {
      "cell_type": "code",
      "source": [
        "num_set - set_bos_list   # birinci kume ikinci farki olmadigi icin kendine esit"
      ],
      "metadata": {
        "colab": {
          "base_uri": "https://localhost:8080/"
        },
        "id": "cp0V1merRfpB",
        "outputId": "dbc71997-ad10-4262-a16c-c12f22c0d0d4"
      },
      "execution_count": 28,
      "outputs": [
        {
          "output_type": "execute_result",
          "data": {
            "text/plain": [
              "{1, 2, 3}"
            ]
          },
          "metadata": {},
          "execution_count": 28
        }
      ]
    },
    {
      "cell_type": "code",
      "source": [
        "num_set - set([1])"
      ],
      "metadata": {
        "colab": {
          "base_uri": "https://localhost:8080/"
        },
        "id": "0C5j95Ble2ml",
        "outputId": "47f7bbfe-cc4e-4634-8ee9-87c5939343b3"
      },
      "execution_count": 29,
      "outputs": [
        {
          "output_type": "execute_result",
          "data": {
            "text/plain": [
              "{2, 3}"
            ]
          },
          "metadata": {},
          "execution_count": 29
        }
      ]
    },
    {
      "cell_type": "code",
      "source": [
        "num_set - set([2])"
      ],
      "metadata": {
        "colab": {
          "base_uri": "https://localhost:8080/"
        },
        "id": "rH03Husce2pc",
        "outputId": "6ad864d2-7f8c-48aa-d61c-f04b5c1e6c05"
      },
      "execution_count": 30,
      "outputs": [
        {
          "output_type": "execute_result",
          "data": {
            "text/plain": [
              "{1, 3}"
            ]
          },
          "metadata": {},
          "execution_count": 30
        }
      ]
    },
    {
      "cell_type": "code",
      "source": [
        "num_set - set([1,2])"
      ],
      "metadata": {
        "colab": {
          "base_uri": "https://localhost:8080/"
        },
        "id": "g4UJdp5Ge2sU",
        "outputId": "42977a1f-d141-4453-dd6a-49ee71ff7600"
      },
      "execution_count": 31,
      "outputs": [
        {
          "output_type": "execute_result",
          "data": {
            "text/plain": [
              "{3}"
            ]
          },
          "metadata": {},
          "execution_count": 31
        }
      ]
    },
    {
      "cell_type": "code",
      "source": [
        "[1]+[2,3]"
      ],
      "metadata": {
        "colab": {
          "base_uri": "https://localhost:8080/"
        },
        "id": "dFdTPfHWe2u2",
        "outputId": "509ee327-09e0-454b-950d-32820a035f28"
      },
      "execution_count": 32,
      "outputs": [
        {
          "output_type": "execute_result",
          "data": {
            "text/plain": [
              "[1, 2, 3]"
            ]
          },
          "metadata": {},
          "execution_count": 32
        }
      ]
    },
    {
      "cell_type": "code",
      "source": [
        "[] + [2] # append olur"
      ],
      "metadata": {
        "colab": {
          "base_uri": "https://localhost:8080/"
        },
        "id": "EA1rsNZve2xT",
        "outputId": "dad54750-922b-40a0-9723-5b21fae7c153"
      },
      "execution_count": 33,
      "outputs": [
        {
          "output_type": "execute_result",
          "data": {
            "text/plain": [
              "[2]"
            ]
          },
          "metadata": {},
          "execution_count": 33
        }
      ]
    },
    {
      "cell_type": "code",
      "source": [
        "num_set - set([1] + [2])"
      ],
      "metadata": {
        "colab": {
          "base_uri": "https://localhost:8080/"
        },
        "id": "-9aOspL9fguU",
        "outputId": "8213cb51-5de9-4a8c-c2ae-48aedb4f6bd4"
      },
      "execution_count": 35,
      "outputs": [
        {
          "output_type": "execute_result",
          "data": {
            "text/plain": [
              "{3}"
            ]
          },
          "metadata": {},
          "execution_count": 35
        }
      ]
    },
    {
      "cell_type": "code",
      "source": [
        "#solutoin-1 =[[1],[2],[3]]\n",
        "\n",
        "#solution-2=[[1,2,],[1,3],[2,3],[2,1],[3,1],[3,2]]\n",
        "\n",
        "#solution-3 = [[1,2,3], [1,3,2],[2,3,1],[2,1,3],[2,3,1],[3,1,2],[3,2,1]]"
      ],
      "metadata": {
        "id": "K6zmgMmafg4j"
      },
      "execution_count": null,
      "outputs": []
    },
    {
      "cell_type": "code",
      "source": [
        "solution = [[]]\n"
      ],
      "metadata": {
        "id": "6-dOg35QfgxK"
      },
      "execution_count": null,
      "outputs": []
    },
    {
      "cell_type": "code",
      "source": [
        "num"
      ],
      "metadata": {
        "colab": {
          "base_uri": "https://localhost:8080/"
        },
        "id": "wuTDsLbhfg7j",
        "outputId": "8c17bb3c-f315-48e6-ef98-701401629d79"
      },
      "execution_count": 36,
      "outputs": [
        {
          "output_type": "execute_result",
          "data": {
            "text/plain": [
              "[1, 2, 3]"
            ]
          },
          "metadata": {},
          "execution_count": 36
        }
      ]
    },
    {
      "cell_type": "code",
      "source": [
        "num_set"
      ],
      "metadata": {
        "colab": {
          "base_uri": "https://localhost:8080/"
        },
        "id": "444E_Tr4e2z9",
        "outputId": "68a7ee2f-ae90-4c97-c166-c626478fffec"
      },
      "execution_count": 37,
      "outputs": [
        {
          "output_type": "execute_result",
          "data": {
            "text/plain": [
              "{1, 2, 3}"
            ]
          },
          "metadata": {},
          "execution_count": 37
        }
      ]
    },
    {
      "cell_type": "code",
      "source": [
        "[[i] for i in range(3)]"
      ],
      "metadata": {
        "colab": {
          "base_uri": "https://localhost:8080/"
        },
        "id": "N-juHtg9gNwa",
        "outputId": "f91fe61f-f7dd-4f93-dfce-a99bfe26459e"
      },
      "execution_count": 38,
      "outputs": [
        {
          "output_type": "execute_result",
          "data": {
            "text/plain": [
              "[[0], [1], [2]]"
            ]
          },
          "metadata": {},
          "execution_count": 38
        }
      ]
    },
    {
      "cell_type": "code",
      "source": [
        "[[i**2] for i in range(3) ]"
      ],
      "metadata": {
        "colab": {
          "base_uri": "https://localhost:8080/"
        },
        "id": "Lwq-el0tgeXy",
        "outputId": "08737e9e-fb99-4f5f-b977-5a6f2835a0dd"
      },
      "execution_count": 39,
      "outputs": [
        {
          "output_type": "execute_result",
          "data": {
            "text/plain": [
              "[[0], [1], [4]]"
            ]
          },
          "metadata": {},
          "execution_count": 39
        }
      ]
    },
    {
      "cell_type": "code",
      "source": [
        "[[i**2] + [\"a\"]for i in range(3)]"
      ],
      "metadata": {
        "colab": {
          "base_uri": "https://localhost:8080/"
        },
        "id": "sVmuIHIegebN",
        "outputId": "686d81f1-7a62-405e-ff77-47e34dc5f118"
      },
      "execution_count": 40,
      "outputs": [
        {
          "output_type": "execute_result",
          "data": {
            "text/plain": [
              "[[0, 'a'], [1, 'a'], [4, 'a']]"
            ]
          },
          "metadata": {},
          "execution_count": 40
        }
      ]
    },
    {
      "cell_type": "code",
      "source": [
        "num"
      ],
      "metadata": {
        "colab": {
          "base_uri": "https://localhost:8080/"
        },
        "id": "CC3juqeageeJ",
        "outputId": "d276b88a-9229-44e4-ded9-540c9fcd72ae"
      },
      "execution_count": 41,
      "outputs": [
        {
          "output_type": "execute_result",
          "data": {
            "text/plain": [
              "[1, 2, 3]"
            ]
          },
          "metadata": {},
          "execution_count": 41
        }
      ]
    },
    {
      "cell_type": "code",
      "source": [
        "num_set"
      ],
      "metadata": {
        "colab": {
          "base_uri": "https://localhost:8080/"
        },
        "id": "FQoMjHqPgeg7",
        "outputId": "735a0c82-3908-4083-ee2c-e719f31e95d3"
      },
      "execution_count": 42,
      "outputs": [
        {
          "output_type": "execute_result",
          "data": {
            "text/plain": [
              "{1, 2, 3}"
            ]
          },
          "metadata": {},
          "execution_count": 42
        }
      ]
    },
    {
      "cell_type": "code",
      "source": [
        "solution"
      ],
      "metadata": {
        "colab": {
          "base_uri": "https://localhost:8080/"
        },
        "id": "oXAZeVyoiI2b",
        "outputId": "b466ce75-6fa1-4529-e8d4-5cace041e531"
      },
      "execution_count": 43,
      "outputs": [
        {
          "output_type": "execute_result",
          "data": {
            "text/plain": [
              "[[]]"
            ]
          },
          "metadata": {},
          "execution_count": 43
        }
      ]
    },
    {
      "cell_type": "code",
      "source": [
        "for index in range(len(num)):\n",
        "  solution = [i + [j] for i in solution for j in num_set.difference(set(i))]  # solution elemeanlari liste j de liste yapariz\n",
        "  print(solution)"
      ],
      "metadata": {
        "colab": {
          "base_uri": "https://localhost:8080/"
        },
        "id": "Yb364ADvgekJ",
        "outputId": "b53d8c52-80ca-444c-c25d-cbc51f584fee"
      },
      "execution_count": 44,
      "outputs": [
        {
          "output_type": "stream",
          "name": "stdout",
          "text": [
            "[[1], [2], [3]]\n",
            "[[1, 2], [1, 3], [2, 1], [2, 3], [3, 1], [3, 2]]\n",
            "[[1, 2, 3], [1, 3, 2], [2, 1, 3], [2, 3, 1], [3, 1, 2], [3, 2, 1]]\n"
          ]
        }
      ]
    },
    {
      "cell_type": "code",
      "source": [
        "import smtplib"
      ],
      "metadata": {
        "id": "SM-aBzmYgemx"
      },
      "execution_count": 46,
      "outputs": []
    },
    {
      "cell_type": "code",
      "source": [
        "server = smtplib.SMTP(\"smtp.gmail.com\",587)"
      ],
      "metadata": {
        "id": "a1hUuJDQqB5T"
      },
      "execution_count": 47,
      "outputs": []
    },
    {
      "cell_type": "code",
      "source": [
        ""
      ],
      "metadata": {
        "id": "cJfHMR13qB8F"
      },
      "execution_count": 48,
      "outputs": []
    },
    {
      "cell_type": "code",
      "source": [
        ""
      ],
      "metadata": {
        "id": "2Ie9zCdLqB-8"
      },
      "execution_count": null,
      "outputs": []
    },
    {
      "cell_type": "code",
      "source": [
        ""
      ],
      "metadata": {
        "id": "HT3Hal7eqCBa"
      },
      "execution_count": null,
      "outputs": []
    },
    {
      "cell_type": "code",
      "source": [
        ""
      ],
      "metadata": {
        "id": "LFfs7xZLqCES"
      },
      "execution_count": null,
      "outputs": []
    },
    {
      "cell_type": "code",
      "source": [
        ""
      ],
      "metadata": {
        "id": "nhJskm5VqCGz"
      },
      "execution_count": null,
      "outputs": []
    }
  ]
}