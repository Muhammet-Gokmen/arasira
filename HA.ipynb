{
  "nbformat": 4,
  "nbformat_minor": 0,
  "metadata": {
    "colab": {
      "name": "Untitled19.ipynb",
      "provenance": [],
      "authorship_tag": "ABX9TyPmnsabk5SPLKCvY8cd7NMG",
      "include_colab_link": true
    },
    "kernelspec": {
      "name": "python3",
      "display_name": "Python 3"
    },
    "language_info": {
      "name": "python"
    }
  },
  "cells": [
    {
      "cell_type": "markdown",
      "metadata": {
        "id": "view-in-github",
        "colab_type": "text"
      },
      "source": [
        "<a href=\"https://colab.research.google.com/github/arasira/arasira/blob/main/HA.ipynb\" target=\"_parent\"><img src=\"https://colab.research.google.com/assets/colab-badge.svg\" alt=\"Open In Colab\"/></a>"
      ]
    },
    {
      "cell_type": "code",
      "execution_count": 1,
      "metadata": {
        "colab": {
          "base_uri": "https://localhost:8080/"
        },
        "id": "cpBNMLgwV7fo",
        "outputId": "98615c8d-0df4-44ca-cabc-ae0687967326"
      },
      "outputs": [
        {
          "output_type": "stream",
          "name": "stdout",
          "text": [
            "Adding 6 + 4 = 10.0\n",
            "Subtracting 6 - 4 = 2.0\n",
            "Dividing 6 / 4 = Invalid operation please specify ADD or SUBTRACT\n"
          ]
        }
      ],
      "source": [
        "# Create a calculator function\n",
        "# The function should accept three parameters:\n",
        "# first_number: a numeric value for the math operation\n",
        "# second_number: a numeric value for the math operation\n",
        "# operation: the word 'add' or 'subtract'\n",
        "# the function should return the result of the two numbers added or subtracted\n",
        "# based on the value passed in for the operator\n",
        "#\n",
        "\n",
        "def calculator(first_number, second_number, operation):\n",
        "    if operation.upper() == 'ADD':\n",
        "        return(float(first_number) + float(second_number))\n",
        "    elif operation.upper() =='SUBTRACT':\n",
        "        return(float(first_number) - float(second_number))\n",
        "    else:\n",
        "        return('Invalid operation please specify ADD or SUBTRACT')\n",
        "# Test your function with the values 6,4, add \n",
        "# Should return 10\n",
        "#\n",
        "print('Adding 6 + 4 = ' + str(calculator(6,4,'add')))\n",
        "# Test your function with the values 6,4, subtract \n",
        "# Should return 2\n",
        "print('Subtracting 6 - 4 = ' + str(calculator(6,4,'subtract')))\n",
        "# Test your function with the values 6,4, divide \n",
        "# Should return some sort of error message\n",
        "print('Dividing 6 / 4 = ' + str(calculator(6,4,'divide')))\n"
      ]
    },
    {
      "cell_type": "code",
      "source": [
        "def calculator():\n",
        "  a = int(input(\"Whic number do you want for calculator? \"))\n",
        "  for b in range(1,11):\n",
        "    print(f'{a}  X  {b}  = {a*b}')"
      ],
      "metadata": {
        "id": "ipv2x0lz60Go"
      },
      "execution_count": 5,
      "outputs": []
    },
    {
      "cell_type": "code",
      "source": [
        "calculator()"
      ],
      "metadata": {
        "colab": {
          "base_uri": "https://localhost:8080/"
        },
        "id": "-100uQXC60O-",
        "outputId": "46a296ca-ad27-418b-8b38-2917ac9051c5"
      },
      "execution_count": 3,
      "outputs": [
        {
          "output_type": "stream",
          "name": "stdout",
          "text": [
            "Whic number do you want for calculator? 4\n",
            "4  X  1  = 4\n",
            "4  X  2  = 8\n",
            "4  X  3  = 12\n",
            "4  X  4  = 16\n",
            "4  X  5  = 20\n",
            "4  X  6  = 24\n",
            "4  X  7  = 28\n",
            "4  X  8  = 32\n",
            "4  X  9  = 36\n",
            "4  X  10  = 40\n"
          ]
        }
      ]
    },
    {
      "cell_type": "code",
      "source": [
        ""
      ],
      "metadata": {
        "id": "8zv8GsqQ60SO"
      },
      "execution_count": null,
      "outputs": []
    },
    {
      "cell_type": "code",
      "source": [
        ""
      ],
      "metadata": {
        "id": "KkKHwixq60VP"
      },
      "execution_count": null,
      "outputs": []
    }
  ]
}